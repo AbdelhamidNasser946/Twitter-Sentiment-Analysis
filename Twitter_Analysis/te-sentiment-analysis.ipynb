{
 "cells": [
  {
   "cell_type": "code",
   "execution_count": 1,
   "id": "6d79f444",
   "metadata": {
    "_cell_guid": "b1076dfc-b9ad-4769-8c92-a6c4dae69d19",
    "_uuid": "8f2839f25d086af736a60e9eeb907d3b93b6e0e5",
    "execution": {
     "iopub.execute_input": "2025-08-19T22:46:05.395287Z",
     "iopub.status.busy": "2025-08-19T22:46:05.395051Z",
     "iopub.status.idle": "2025-08-19T22:46:07.348739Z",
     "shell.execute_reply": "2025-08-19T22:46:07.347977Z"
    },
    "papermill": {
     "duration": 1.962325,
     "end_time": "2025-08-19T22:46:07.349901",
     "exception": false,
     "start_time": "2025-08-19T22:46:05.387576",
     "status": "completed"
    },
    "tags": []
   },
   "outputs": [
    {
     "name": "stdout",
     "output_type": "stream",
     "text": [
      "/kaggle/input/twitter-entity-sentiment-analysis/twitter_validation.csv\n",
      "/kaggle/input/twitter-entity-sentiment-analysis/twitter_training.csv\n"
     ]
    }
   ],
   "source": [
    "# This Python 3 environment comes with many helpful analytics libraries installed\n",
    "# It is defined by the kaggle/python Docker image: https://github.com/kaggle/docker-python\n",
    "# For example, here's several helpful packages to load\n",
    "\n",
    "import numpy as np # linear algebra\n",
    "import pandas as pd # data processing, CSV file I/O (e.g. pd.read_csv)\n",
    "\n",
    "# Input data files are available in the read-only \"../input/\" directory\n",
    "# For example, running this (by clicking run or pressing Shift+Enter) will list all files under the input directory\n",
    "\n",
    "import os\n",
    "for dirname, _, filenames in os.walk('/kaggle/input'):\n",
    "    for filename in filenames:\n",
    "        print(os.path.join(dirname, filename))\n",
    "\n",
    "# You can write up to 20GB to the current directory (/kaggle/working/) that gets preserved as output when you create a version using \"Save & Run All\" \n",
    "# You can also write temporary files to /kaggle/temp/, but they won't be saved outside of the current session"
   ]
  },
  {
   "cell_type": "markdown",
   "id": "7e80c9cf",
   "metadata": {
    "papermill": {
     "duration": 0.005697,
     "end_time": "2025-08-19T22:46:07.362099",
     "exception": false,
     "start_time": "2025-08-19T22:46:07.356402",
     "status": "completed"
    },
    "tags": []
   },
   "source": [
    "## **Import Libraries**"
   ]
  },
  {
   "cell_type": "code",
   "execution_count": 2,
   "id": "1975cd50",
   "metadata": {
    "execution": {
     "iopub.execute_input": "2025-08-19T22:46:07.374498Z",
     "iopub.status.busy": "2025-08-19T22:46:07.374206Z",
     "iopub.status.idle": "2025-08-19T22:46:29.256140Z",
     "shell.execute_reply": "2025-08-19T22:46:29.255307Z"
    },
    "papermill": {
     "duration": 21.889854,
     "end_time": "2025-08-19T22:46:29.257669",
     "exception": false,
     "start_time": "2025-08-19T22:46:07.367815",
     "status": "completed"
    },
    "tags": []
   },
   "outputs": [
    {
     "name": "stderr",
     "output_type": "stream",
     "text": [
      "2025-08-19 22:46:13.992725: E external/local_xla/xla/stream_executor/cuda/cuda_fft.cc:477] Unable to register cuFFT factory: Attempting to register factory for plugin cuFFT when one has already been registered\n",
      "WARNING: All log messages before absl::InitializeLog() is called are written to STDERR\n",
      "E0000 00:00:1755643574.360939      19 cuda_dnn.cc:8310] Unable to register cuDNN factory: Attempting to register factory for plugin cuDNN when one has already been registered\n",
      "E0000 00:00:1755643574.461221      19 cuda_blas.cc:1418] Unable to register cuBLAS factory: Attempting to register factory for plugin cuBLAS when one has already been registered\n"
     ]
    }
   ],
   "source": [
    "import pandas as pd\n",
    "import numpy as np\n",
    "import matplotlib.pyplot as plt\n",
    "import seaborn as sns\n",
    "import re\n",
    "import string\n",
    "\n",
    "import nltk\n",
    "from nltk.corpus import stopwords\n",
    "from nltk.stem import PorterStemmer, WordNetLemmatizer\n",
    "\n",
    "from sklearn.model_selection import train_test_split\n",
    "from sklearn.preprocessing import LabelEncoder\n",
    "from sklearn.metrics import confusion_matrix, classification_report\n",
    "\n",
    "import tensorflow as tf\n",
    "from tensorflow.keras import layers, models\n",
    "from tensorflow.keras.models import Sequential\n",
    "from tensorflow.keras.layers import Embedding, Dense, Dropout, LSTM, GlobalMaxPooling1D, SpatialDropout1D, GlobalAveragePooling1D\n",
    "from tensorflow.keras.optimizers import Adam\n",
    "from tensorflow.keras.preprocessing.text import Tokenizer\n",
    "from tensorflow.keras.preprocessing.sequence import pad_sequences\n",
    "from tensorflow.keras.utils import to_categorical\n",
    "from tensorflow.keras.callbacks import EarlyStopping, ModelCheckpoint\n",
    "\n",
    "from wordcloud import WordCloud\n",
    "from collections import Counter\n",
    "\n",
    "nltk.download('stopwords', quiet=True)\n",
    "nltk.download('wordnet', quiet=True)\n",
    "\n",
    "import warnings \n",
    "warnings.filterwarnings(\"ignore\")"
   ]
  },
  {
   "cell_type": "code",
   "execution_count": 3,
   "id": "3eb96da5",
   "metadata": {
    "execution": {
     "iopub.execute_input": "2025-08-19T22:46:29.271942Z",
     "iopub.status.busy": "2025-08-19T22:46:29.271488Z",
     "iopub.status.idle": "2025-08-19T22:46:29.563270Z",
     "shell.execute_reply": "2025-08-19T22:46:29.562635Z"
    },
    "papermill": {
     "duration": 0.299739,
     "end_time": "2025-08-19T22:46:29.564639",
     "exception": false,
     "start_time": "2025-08-19T22:46:29.264900",
     "status": "completed"
    },
    "tags": []
   },
   "outputs": [],
   "source": [
    "train_df = pd.read_csv(r\"/kaggle/input/twitter-entity-sentiment-analysis/twitter_training.csv\")\n",
    "valid_df = pd.read_csv(r\"/kaggle/input/twitter-entity-sentiment-analysis/twitter_validation.csv\")"
   ]
  },
  {
   "cell_type": "code",
   "execution_count": 4,
   "id": "1cf2bae4",
   "metadata": {
    "execution": {
     "iopub.execute_input": "2025-08-19T22:46:29.577739Z",
     "iopub.status.busy": "2025-08-19T22:46:29.577511Z",
     "iopub.status.idle": "2025-08-19T22:46:29.580973Z",
     "shell.execute_reply": "2025-08-19T22:46:29.580471Z"
    },
    "papermill": {
     "duration": 0.011041,
     "end_time": "2025-08-19T22:46:29.581974",
     "exception": false,
     "start_time": "2025-08-19T22:46:29.570933",
     "status": "completed"
    },
    "tags": []
   },
   "outputs": [],
   "source": [
    "train_df.columns = ['ID', 'Entity', 'Sentiment', 'Text']\n",
    "valid_df.columns = ['ID', 'Entity', 'Sentiment', 'Text']"
   ]
  },
  {
   "cell_type": "markdown",
   "id": "4e5f8634",
   "metadata": {
    "papermill": {
     "duration": 0.005579,
     "end_time": "2025-08-19T22:46:29.593441",
     "exception": false,
     "start_time": "2025-08-19T22:46:29.587862",
     "status": "completed"
    },
    "tags": []
   },
   "source": [
    "## **Exploring and cleaning data**"
   ]
  },
  {
   "cell_type": "code",
   "execution_count": 5,
   "id": "4ba81f5f",
   "metadata": {
    "execution": {
     "iopub.execute_input": "2025-08-19T22:46:29.605448Z",
     "iopub.status.busy": "2025-08-19T22:46:29.605234Z",
     "iopub.status.idle": "2025-08-19T22:46:29.636442Z",
     "shell.execute_reply": "2025-08-19T22:46:29.635789Z"
    },
    "papermill": {
     "duration": 0.038358,
     "end_time": "2025-08-19T22:46:29.637434",
     "exception": false,
     "start_time": "2025-08-19T22:46:29.599076",
     "status": "completed"
    },
    "tags": []
   },
   "outputs": [
    {
     "data": {
      "text/html": [
       "<div>\n",
       "<style scoped>\n",
       "    .dataframe tbody tr th:only-of-type {\n",
       "        vertical-align: middle;\n",
       "    }\n",
       "\n",
       "    .dataframe tbody tr th {\n",
       "        vertical-align: top;\n",
       "    }\n",
       "\n",
       "    .dataframe thead th {\n",
       "        text-align: right;\n",
       "    }\n",
       "</style>\n",
       "<table border=\"1\" class=\"dataframe\">\n",
       "  <thead>\n",
       "    <tr style=\"text-align: right;\">\n",
       "      <th></th>\n",
       "      <th>ID</th>\n",
       "      <th>Entity</th>\n",
       "      <th>Sentiment</th>\n",
       "      <th>Text</th>\n",
       "    </tr>\n",
       "  </thead>\n",
       "  <tbody>\n",
       "    <tr>\n",
       "      <th>61657</th>\n",
       "      <td>4969</td>\n",
       "      <td>GrandTheftAuto(GTA)</td>\n",
       "      <td>Positive</td>\n",
       "      <td>The dream is to fill a lobby in GTA IV Online,...</td>\n",
       "    </tr>\n",
       "    <tr>\n",
       "      <th>16557</th>\n",
       "      <td>9636</td>\n",
       "      <td>PlayStation5(PS5)</td>\n",
       "      <td>Positive</td>\n",
       "      <td>It was a real challenge.... [UNK]</td>\n",
       "    </tr>\n",
       "    <tr>\n",
       "      <th>727</th>\n",
       "      <td>2528</td>\n",
       "      <td>Borderlands</td>\n",
       "      <td>Negative</td>\n",
       "      <td>Surrender on the Border</td>\n",
       "    </tr>\n",
       "    <tr>\n",
       "      <th>60375</th>\n",
       "      <td>3545</td>\n",
       "      <td>Facebook</td>\n",
       "      <td>Irrelevant</td>\n",
       "      <td>22 Fear of prime</td>\n",
       "    </tr>\n",
       "    <tr>\n",
       "      <th>8650</th>\n",
       "      <td>9483</td>\n",
       "      <td>Overwatch</td>\n",
       "      <td>Positive</td>\n",
       "      <td>of short clips from our Football Console Divis...</td>\n",
       "    </tr>\n",
       "    <tr>\n",
       "      <th>66127</th>\n",
       "      <td>6924</td>\n",
       "      <td>johnson&amp;johnson</td>\n",
       "      <td>Negative</td>\n",
       "      <td>Are they being sued for their baby powder? Nev...</td>\n",
       "    </tr>\n",
       "    <tr>\n",
       "      <th>2176</th>\n",
       "      <td>2781</td>\n",
       "      <td>Borderlands</td>\n",
       "      <td>Neutral</td>\n",
       "      <td>@Borderlands handsome quality free on mobile g...</td>\n",
       "    </tr>\n",
       "    <tr>\n",
       "      <th>43973</th>\n",
       "      <td>10352</td>\n",
       "      <td>PlayerUnknownsBattlegrounds(PUBG)</td>\n",
       "      <td>Negative</td>\n",
       "      <td>I think bots in @PUBG is a terrible mistake. ....</td>\n",
       "    </tr>\n",
       "    <tr>\n",
       "      <th>62167</th>\n",
       "      <td>5057</td>\n",
       "      <td>GrandTheftAuto(GTA)</td>\n",
       "      <td>Irrelevant</td>\n",
       "      <td>it's literally GTA in real life.</td>\n",
       "    </tr>\n",
       "    <tr>\n",
       "      <th>27159</th>\n",
       "      <td>1073</td>\n",
       "      <td>AssassinsCreed</td>\n",
       "      <td>Positive</td>\n",
       "      <td>And Shoutout to @Ubisoft for having finished a...</td>\n",
       "    </tr>\n",
       "  </tbody>\n",
       "</table>\n",
       "</div>"
      ],
      "text/plain": [
       "          ID                             Entity   Sentiment  \\\n",
       "61657   4969                GrandTheftAuto(GTA)    Positive   \n",
       "16557   9636                  PlayStation5(PS5)    Positive   \n",
       "727     2528                        Borderlands    Negative   \n",
       "60375   3545                           Facebook  Irrelevant   \n",
       "8650    9483                          Overwatch    Positive   \n",
       "66127   6924                    johnson&johnson    Negative   \n",
       "2176    2781                        Borderlands     Neutral   \n",
       "43973  10352  PlayerUnknownsBattlegrounds(PUBG)    Negative   \n",
       "62167   5057                GrandTheftAuto(GTA)  Irrelevant   \n",
       "27159   1073                     AssassinsCreed    Positive   \n",
       "\n",
       "                                                    Text  \n",
       "61657  The dream is to fill a lobby in GTA IV Online,...  \n",
       "16557                  It was a real challenge.... [UNK]  \n",
       "727                              Surrender on the Border  \n",
       "60375                                   22 Fear of prime  \n",
       "8650   of short clips from our Football Console Divis...  \n",
       "66127  Are they being sued for their baby powder? Nev...  \n",
       "2176   @Borderlands handsome quality free on mobile g...  \n",
       "43973  I think bots in @PUBG is a terrible mistake. ....  \n",
       "62167                   it's literally GTA in real life.  \n",
       "27159  And Shoutout to @Ubisoft for having finished a...  "
      ]
     },
     "execution_count": 5,
     "metadata": {},
     "output_type": "execute_result"
    }
   ],
   "source": [
    "train_df.sample(10)"
   ]
  },
  {
   "cell_type": "code",
   "execution_count": 6,
   "id": "65f3bb16",
   "metadata": {
    "execution": {
     "iopub.execute_input": "2025-08-19T22:46:29.650013Z",
     "iopub.status.busy": "2025-08-19T22:46:29.649820Z",
     "iopub.status.idle": "2025-08-19T22:46:29.663615Z",
     "shell.execute_reply": "2025-08-19T22:46:29.662929Z"
    },
    "papermill": {
     "duration": 0.021233,
     "end_time": "2025-08-19T22:46:29.664673",
     "exception": false,
     "start_time": "2025-08-19T22:46:29.643440",
     "status": "completed"
    },
    "tags": []
   },
   "outputs": [
    {
     "data": {
      "text/plain": [
       "Sentiment\n",
       "Negative      22542\n",
       "Positive      20831\n",
       "Neutral       18318\n",
       "Irrelevant    12990\n",
       "Name: count, dtype: int64"
      ]
     },
     "execution_count": 6,
     "metadata": {},
     "output_type": "execute_result"
    }
   ],
   "source": [
    "train_df['Sentiment'].value_counts()"
   ]
  },
  {
   "cell_type": "code",
   "execution_count": 7,
   "id": "8b1bd7a0",
   "metadata": {
    "execution": {
     "iopub.execute_input": "2025-08-19T22:46:29.677439Z",
     "iopub.status.busy": "2025-08-19T22:46:29.677229Z",
     "iopub.status.idle": "2025-08-19T22:46:29.694401Z",
     "shell.execute_reply": "2025-08-19T22:46:29.693388Z"
    },
    "papermill": {
     "duration": 0.024949,
     "end_time": "2025-08-19T22:46:29.695643",
     "exception": false,
     "start_time": "2025-08-19T22:46:29.670694",
     "status": "completed"
    },
    "tags": []
   },
   "outputs": [
    {
     "name": "stdout",
     "output_type": "stream",
     "text": [
      "ID             0\n",
      "Entity         0\n",
      "Sentiment      0\n",
      "Text         686\n",
      "dtype: int64\n",
      "ID           0\n",
      "Entity       0\n",
      "Sentiment    0\n",
      "Text         0\n",
      "dtype: int64\n"
     ]
    }
   ],
   "source": [
    "print(train_df.isna().sum())\n",
    "print(valid_df.isna().sum())"
   ]
  },
  {
   "cell_type": "code",
   "execution_count": 8,
   "id": "cfc1813c",
   "metadata": {
    "execution": {
     "iopub.execute_input": "2025-08-19T22:46:29.708977Z",
     "iopub.status.busy": "2025-08-19T22:46:29.708434Z",
     "iopub.status.idle": "2025-08-19T22:46:29.725364Z",
     "shell.execute_reply": "2025-08-19T22:46:29.724806Z"
    },
    "papermill": {
     "duration": 0.024562,
     "end_time": "2025-08-19T22:46:29.726413",
     "exception": false,
     "start_time": "2025-08-19T22:46:29.701851",
     "status": "completed"
    },
    "tags": []
   },
   "outputs": [],
   "source": [
    "train_df.dropna(inplace = True)"
   ]
  },
  {
   "cell_type": "code",
   "execution_count": 9,
   "id": "f6288005",
   "metadata": {
    "execution": {
     "iopub.execute_input": "2025-08-19T22:46:29.739478Z",
     "iopub.status.busy": "2025-08-19T22:46:29.739297Z",
     "iopub.status.idle": "2025-08-19T22:46:29.747785Z",
     "shell.execute_reply": "2025-08-19T22:46:29.747098Z"
    },
    "papermill": {
     "duration": 0.016522,
     "end_time": "2025-08-19T22:46:29.748863",
     "exception": false,
     "start_time": "2025-08-19T22:46:29.732341",
     "status": "completed"
    },
    "tags": []
   },
   "outputs": [
    {
     "name": "stdout",
     "output_type": "stream",
     "text": [
      "Sentiment\n",
      "Negative      22358\n",
      "Positive      20654\n",
      "Neutral       18108\n",
      "Irrelevant    12875\n",
      "Name: count, dtype: int64\n",
      "Sentiment\n",
      "Neutral       285\n",
      "Positive      277\n",
      "Negative      266\n",
      "Irrelevant    171\n",
      "Name: count, dtype: int64\n"
     ]
    }
   ],
   "source": [
    "print(train_df['Sentiment'].value_counts())\n",
    "print(valid_df['Sentiment'].value_counts())"
   ]
  },
  {
   "cell_type": "code",
   "execution_count": 10,
   "id": "1ab3d5f0",
   "metadata": {
    "execution": {
     "iopub.execute_input": "2025-08-19T22:46:29.762001Z",
     "iopub.status.busy": "2025-08-19T22:46:29.761399Z",
     "iopub.status.idle": "2025-08-19T22:46:29.785014Z",
     "shell.execute_reply": "2025-08-19T22:46:29.784323Z"
    },
    "papermill": {
     "duration": 0.031341,
     "end_time": "2025-08-19T22:46:29.786236",
     "exception": false,
     "start_time": "2025-08-19T22:46:29.754895",
     "status": "completed"
    },
    "tags": []
   },
   "outputs": [],
   "source": [
    "from sklearn.utils import resample\n",
    "\n",
    "# Separate majority and minority classes\n",
    "df_majority = train_df[train_df.Sentiment != 'Irrelevant']\n",
    "df_minority = train_df[train_df.Sentiment == 'Irrelevant']\n",
    "\n",
    "df_minority_upsampled = resample(\n",
    "    df_minority,\n",
    "    replace = True,\n",
    "    n_samples = df_majority['Sentiment'].value_counts().max(),\n",
    "    random_state = 42\n",
    ")\n",
    "\n",
    "balanced_train_df = pd.concat([df_majority, df_minority_upsampled])"
   ]
  },
  {
   "cell_type": "code",
   "execution_count": 11,
   "id": "97d6c498",
   "metadata": {
    "execution": {
     "iopub.execute_input": "2025-08-19T22:46:29.799027Z",
     "iopub.status.busy": "2025-08-19T22:46:29.798826Z",
     "iopub.status.idle": "2025-08-19T22:46:29.807872Z",
     "shell.execute_reply": "2025-08-19T22:46:29.807169Z"
    },
    "papermill": {
     "duration": 0.016717,
     "end_time": "2025-08-19T22:46:29.808989",
     "exception": false,
     "start_time": "2025-08-19T22:46:29.792272",
     "status": "completed"
    },
    "tags": []
   },
   "outputs": [
    {
     "data": {
      "text/plain": [
       "Sentiment\n",
       "Irrelevant    22358\n",
       "Negative      22358\n",
       "Positive      20654\n",
       "Neutral       18108\n",
       "Name: count, dtype: int64"
      ]
     },
     "execution_count": 11,
     "metadata": {},
     "output_type": "execute_result"
    }
   ],
   "source": [
    "balanced_train_df['Sentiment'].value_counts()"
   ]
  },
  {
   "cell_type": "code",
   "execution_count": 12,
   "id": "eccdb6b4",
   "metadata": {
    "execution": {
     "iopub.execute_input": "2025-08-19T22:46:29.823278Z",
     "iopub.status.busy": "2025-08-19T22:46:29.823066Z",
     "iopub.status.idle": "2025-08-19T22:46:29.825669Z",
     "shell.execute_reply": "2025-08-19T22:46:29.825181Z"
    },
    "papermill": {
     "duration": 0.010256,
     "end_time": "2025-08-19T22:46:29.826650",
     "exception": false,
     "start_time": "2025-08-19T22:46:29.816394",
     "status": "completed"
    },
    "tags": []
   },
   "outputs": [],
   "source": [
    "# train_df.drop_duplicates(inplace = True)"
   ]
  },
  {
   "cell_type": "code",
   "execution_count": 13,
   "id": "617c063d",
   "metadata": {
    "execution": {
     "iopub.execute_input": "2025-08-19T22:46:29.840164Z",
     "iopub.status.busy": "2025-08-19T22:46:29.839747Z",
     "iopub.status.idle": "2025-08-19T22:46:29.843817Z",
     "shell.execute_reply": "2025-08-19T22:46:29.843286Z"
    },
    "papermill": {
     "duration": 0.011673,
     "end_time": "2025-08-19T22:46:29.844785",
     "exception": false,
     "start_time": "2025-08-19T22:46:29.833112",
     "status": "completed"
    },
    "tags": []
   },
   "outputs": [
    {
     "data": {
      "text/plain": [
       "((83478, 4), (999, 4))"
      ]
     },
     "execution_count": 13,
     "metadata": {},
     "output_type": "execute_result"
    }
   ],
   "source": [
    "balanced_train_df.shape, valid_df.shape"
   ]
  },
  {
   "cell_type": "code",
   "execution_count": 14,
   "id": "e4131eea",
   "metadata": {
    "execution": {
     "iopub.execute_input": "2025-08-19T22:46:29.900856Z",
     "iopub.status.busy": "2025-08-19T22:46:29.900616Z",
     "iopub.status.idle": "2025-08-19T22:46:29.923579Z",
     "shell.execute_reply": "2025-08-19T22:46:29.922857Z"
    },
    "papermill": {
     "duration": 0.073967,
     "end_time": "2025-08-19T22:46:29.924999",
     "exception": false,
     "start_time": "2025-08-19T22:46:29.851032",
     "status": "completed"
    },
    "tags": []
   },
   "outputs": [
    {
     "data": {
      "text/html": [
       "<div>\n",
       "<style scoped>\n",
       "    .dataframe tbody tr th:only-of-type {\n",
       "        vertical-align: middle;\n",
       "    }\n",
       "\n",
       "    .dataframe tbody tr th {\n",
       "        vertical-align: top;\n",
       "    }\n",
       "\n",
       "    .dataframe thead th {\n",
       "        text-align: right;\n",
       "    }\n",
       "</style>\n",
       "<table border=\"1\" class=\"dataframe\">\n",
       "  <thead>\n",
       "    <tr style=\"text-align: right;\">\n",
       "      <th></th>\n",
       "      <th>ID</th>\n",
       "      <th>Entity</th>\n",
       "      <th>Sentiment</th>\n",
       "      <th>Text</th>\n",
       "    </tr>\n",
       "  </thead>\n",
       "  <tbody>\n",
       "    <tr>\n",
       "      <th>66286</th>\n",
       "      <td>6951</td>\n",
       "      <td>johnson&amp;johnson</td>\n",
       "      <td>1</td>\n",
       "      <td>are</td>\n",
       "    </tr>\n",
       "    <tr>\n",
       "      <th>41397</th>\n",
       "      <td>1503</td>\n",
       "      <td>Battlefield</td>\n",
       "      <td>0</td>\n",
       "      <td>1 Bullying pilots with EPIC Tank launch shots ...</td>\n",
       "    </tr>\n",
       "    <tr>\n",
       "      <th>74322</th>\n",
       "      <td>9137</td>\n",
       "      <td>Nvidia</td>\n",
       "      <td>2</td>\n",
       "      <td>Hm? When did you get the best service? I misse...</td>\n",
       "    </tr>\n",
       "    <tr>\n",
       "      <th>53062</th>\n",
       "      <td>10716</td>\n",
       "      <td>RedDeadRedemption(RDR)</td>\n",
       "      <td>3</td>\n",
       "      <td>I</td>\n",
       "    </tr>\n",
       "    <tr>\n",
       "      <th>24107</th>\n",
       "      <td>4532</td>\n",
       "      <td>Google</td>\n",
       "      <td>2</td>\n",
       "      <td>Google Calendar can be messy, loud, and chaoti...</td>\n",
       "    </tr>\n",
       "  </tbody>\n",
       "</table>\n",
       "</div>"
      ],
      "text/plain": [
       "          ID                  Entity  Sentiment  \\\n",
       "66286   6951         johnson&johnson          1   \n",
       "41397   1503             Battlefield          0   \n",
       "74322   9137                  Nvidia          2   \n",
       "53062  10716  RedDeadRedemption(RDR)          3   \n",
       "24107   4532                  Google          2   \n",
       "\n",
       "                                                    Text  \n",
       "66286                                                are  \n",
       "41397  1 Bullying pilots with EPIC Tank launch shots ...  \n",
       "74322  Hm? When did you get the best service? I misse...  \n",
       "53062                                                  I  \n",
       "24107  Google Calendar can be messy, loud, and chaoti...  "
      ]
     },
     "execution_count": 14,
     "metadata": {},
     "output_type": "execute_result"
    }
   ],
   "source": [
    "label_encoder = LabelEncoder()\n",
    "balanced_train_df['Sentiment'] = label_encoder.fit_transform(balanced_train_df['Sentiment'])\n",
    "balanced_train_df.sample(5)"
   ]
  },
  {
   "cell_type": "code",
   "execution_count": 15,
   "id": "2e613c04",
   "metadata": {
    "execution": {
     "iopub.execute_input": "2025-08-19T22:46:29.939057Z",
     "iopub.status.busy": "2025-08-19T22:46:29.938488Z",
     "iopub.status.idle": "2025-08-19T22:46:29.949017Z",
     "shell.execute_reply": "2025-08-19T22:46:29.948562Z"
    },
    "papermill": {
     "duration": 0.018434,
     "end_time": "2025-08-19T22:46:29.950021",
     "exception": false,
     "start_time": "2025-08-19T22:46:29.931587",
     "status": "completed"
    },
    "tags": []
   },
   "outputs": [],
   "source": [
    "balanced_train_df.drop(columns = ['ID', 'Entity'], inplace = True)"
   ]
  },
  {
   "cell_type": "code",
   "execution_count": 16,
   "id": "78f5b6c3",
   "metadata": {
    "execution": {
     "iopub.execute_input": "2025-08-19T22:46:29.963740Z",
     "iopub.status.busy": "2025-08-19T22:46:29.963208Z",
     "iopub.status.idle": "2025-08-19T22:46:29.970105Z",
     "shell.execute_reply": "2025-08-19T22:46:29.969558Z"
    },
    "papermill": {
     "duration": 0.014795,
     "end_time": "2025-08-19T22:46:29.971246",
     "exception": false,
     "start_time": "2025-08-19T22:46:29.956451",
     "status": "completed"
    },
    "tags": []
   },
   "outputs": [
    {
     "data": {
      "text/html": [
       "<div>\n",
       "<style scoped>\n",
       "    .dataframe tbody tr th:only-of-type {\n",
       "        vertical-align: middle;\n",
       "    }\n",
       "\n",
       "    .dataframe tbody tr th {\n",
       "        vertical-align: top;\n",
       "    }\n",
       "\n",
       "    .dataframe thead th {\n",
       "        text-align: right;\n",
       "    }\n",
       "</style>\n",
       "<table border=\"1\" class=\"dataframe\">\n",
       "  <thead>\n",
       "    <tr style=\"text-align: right;\">\n",
       "      <th></th>\n",
       "      <th>Sentiment</th>\n",
       "      <th>Text</th>\n",
       "    </tr>\n",
       "  </thead>\n",
       "  <tbody>\n",
       "    <tr>\n",
       "      <th>168</th>\n",
       "      <td>Negative</td>\n",
       "      <td>Yo @NBA2K fuck your fake ass garbage ass game</td>\n",
       "    </tr>\n",
       "    <tr>\n",
       "      <th>884</th>\n",
       "      <td>Negative</td>\n",
       "      <td>@EAMaddenNFL is Madden NFL 21 still charging $...</td>\n",
       "    </tr>\n",
       "    <tr>\n",
       "      <th>152</th>\n",
       "      <td>Neutral</td>\n",
       "      <td>I didn't have massive success in #IndieApril b...</td>\n",
       "    </tr>\n",
       "    <tr>\n",
       "      <th>551</th>\n",
       "      <td>Neutral</td>\n",
       "      <td>Worked at Macy’s \\n\\nWorked at Chick Fil-A \\n\\...</td>\n",
       "    </tr>\n",
       "    <tr>\n",
       "      <th>492</th>\n",
       "      <td>Positive</td>\n",
       "      <td>FIFA 21 soars to the top of the charts this we...</td>\n",
       "    </tr>\n",
       "  </tbody>\n",
       "</table>\n",
       "</div>"
      ],
      "text/plain": [
       "    Sentiment                                               Text\n",
       "168  Negative      Yo @NBA2K fuck your fake ass garbage ass game\n",
       "884  Negative  @EAMaddenNFL is Madden NFL 21 still charging $...\n",
       "152   Neutral  I didn't have massive success in #IndieApril b...\n",
       "551   Neutral  Worked at Macy’s \\n\\nWorked at Chick Fil-A \\n\\...\n",
       "492  Positive  FIFA 21 soars to the top of the charts this we..."
      ]
     },
     "execution_count": 16,
     "metadata": {},
     "output_type": "execute_result"
    }
   ],
   "source": [
    "valid_df.drop(columns = ['ID', 'Entity'], inplace = True)\n",
    "valid_df.sample(5)"
   ]
  },
  {
   "cell_type": "code",
   "execution_count": 17,
   "id": "e4b47e3e",
   "metadata": {
    "execution": {
     "iopub.execute_input": "2025-08-19T22:46:29.986030Z",
     "iopub.status.busy": "2025-08-19T22:46:29.985520Z",
     "iopub.status.idle": "2025-08-19T22:46:29.992990Z",
     "shell.execute_reply": "2025-08-19T22:46:29.992435Z"
    },
    "papermill": {
     "duration": 0.015655,
     "end_time": "2025-08-19T22:46:29.994090",
     "exception": false,
     "start_time": "2025-08-19T22:46:29.978435",
     "status": "completed"
    },
    "tags": []
   },
   "outputs": [
    {
     "data": {
      "text/html": [
       "<div>\n",
       "<style scoped>\n",
       "    .dataframe tbody tr th:only-of-type {\n",
       "        vertical-align: middle;\n",
       "    }\n",
       "\n",
       "    .dataframe tbody tr th {\n",
       "        vertical-align: top;\n",
       "    }\n",
       "\n",
       "    .dataframe thead th {\n",
       "        text-align: right;\n",
       "    }\n",
       "</style>\n",
       "<table border=\"1\" class=\"dataframe\">\n",
       "  <thead>\n",
       "    <tr style=\"text-align: right;\">\n",
       "      <th></th>\n",
       "      <th>Sentiment</th>\n",
       "      <th>Text</th>\n",
       "    </tr>\n",
       "  </thead>\n",
       "  <tbody>\n",
       "    <tr>\n",
       "      <th>523</th>\n",
       "      <td>1</td>\n",
       "      <td>One game of fifa tonight and I’m done. Pressin...</td>\n",
       "    </tr>\n",
       "    <tr>\n",
       "      <th>551</th>\n",
       "      <td>2</td>\n",
       "      <td>Worked at Macy’s \\n\\nWorked at Chick Fil-A \\n\\...</td>\n",
       "    </tr>\n",
       "    <tr>\n",
       "      <th>448</th>\n",
       "      <td>2</td>\n",
       "      <td>Facebook employees reportedly feel guilty that...</td>\n",
       "    </tr>\n",
       "    <tr>\n",
       "      <th>368</th>\n",
       "      <td>3</td>\n",
       "      <td>Thanks @RockstarGames , you're rock stars!  #R...</td>\n",
       "    </tr>\n",
       "    <tr>\n",
       "      <th>714</th>\n",
       "      <td>3</td>\n",
       "      <td>Had a pretty amazing time streaming tonight, p...</td>\n",
       "    </tr>\n",
       "  </tbody>\n",
       "</table>\n",
       "</div>"
      ],
      "text/plain": [
       "     Sentiment                                               Text\n",
       "523          1  One game of fifa tonight and I’m done. Pressin...\n",
       "551          2  Worked at Macy’s \\n\\nWorked at Chick Fil-A \\n\\...\n",
       "448          2  Facebook employees reportedly feel guilty that...\n",
       "368          3  Thanks @RockstarGames , you're rock stars!  #R...\n",
       "714          3  Had a pretty amazing time streaming tonight, p..."
      ]
     },
     "execution_count": 17,
     "metadata": {},
     "output_type": "execute_result"
    }
   ],
   "source": [
    "valid_df['Sentiment'] = label_encoder.fit_transform(valid_df['Sentiment'])\n",
    "valid_df.sample(5)"
   ]
  },
  {
   "cell_type": "code",
   "execution_count": 18,
   "id": "8a280d9e",
   "metadata": {
    "execution": {
     "iopub.execute_input": "2025-08-19T22:46:30.008312Z",
     "iopub.status.busy": "2025-08-19T22:46:30.007897Z",
     "iopub.status.idle": "2025-08-19T22:46:30.010660Z",
     "shell.execute_reply": "2025-08-19T22:46:30.010160Z"
    },
    "papermill": {
     "duration": 0.010858,
     "end_time": "2025-08-19T22:46:30.011659",
     "exception": false,
     "start_time": "2025-08-19T22:46:30.000801",
     "status": "completed"
    },
    "tags": []
   },
   "outputs": [],
   "source": [
    "# train_df.sample(10)"
   ]
  },
  {
   "cell_type": "code",
   "execution_count": 19,
   "id": "4f035515",
   "metadata": {
    "execution": {
     "iopub.execute_input": "2025-08-19T22:46:30.027728Z",
     "iopub.status.busy": "2025-08-19T22:46:30.027191Z",
     "iopub.status.idle": "2025-08-19T22:46:30.037686Z",
     "shell.execute_reply": "2025-08-19T22:46:30.037170Z"
    },
    "papermill": {
     "duration": 0.020255,
     "end_time": "2025-08-19T22:46:30.038654",
     "exception": false,
     "start_time": "2025-08-19T22:46:30.018399",
     "status": "completed"
    },
    "tags": []
   },
   "outputs": [
    {
     "data": {
      "text/plain": [
       "Sentiment    0\n",
       "Text         0\n",
       "dtype: int64"
      ]
     },
     "execution_count": 19,
     "metadata": {},
     "output_type": "execute_result"
    }
   ],
   "source": [
    "balanced_train_df.isna().sum()\n",
    "valid_df.isna().sum()"
   ]
  },
  {
   "cell_type": "markdown",
   "id": "e14f4b13",
   "metadata": {
    "papermill": {
     "duration": 0.006761,
     "end_time": "2025-08-19T22:46:30.052137",
     "exception": false,
     "start_time": "2025-08-19T22:46:30.045376",
     "status": "completed"
    },
    "tags": []
   },
   "source": [
    "## **Text Preprocessing**"
   ]
  },
  {
   "cell_type": "code",
   "execution_count": 20,
   "id": "3248f8fb",
   "metadata": {
    "execution": {
     "iopub.execute_input": "2025-08-19T22:46:30.066675Z",
     "iopub.status.busy": "2025-08-19T22:46:30.066046Z",
     "iopub.status.idle": "2025-08-19T22:46:30.072049Z",
     "shell.execute_reply": "2025-08-19T22:46:30.071535Z"
    },
    "papermill": {
     "duration": 0.01414,
     "end_time": "2025-08-19T22:46:30.073006",
     "exception": false,
     "start_time": "2025-08-19T22:46:30.058866",
     "status": "completed"
    },
    "tags": []
   },
   "outputs": [],
   "source": [
    "def processed_text(text):\n",
    "\n",
    "    lemmatizer = WordNetLemmatizer()\n",
    "    stop_words = set(stopwords.words('english'))\n",
    "    \n",
    "    \n",
    "    # text normalization\n",
    "    text = str(text).lower()\n",
    "    # removing links\n",
    "    text = re.sub(r\"http\\S+|www\\S+|https\\S+\", ' ', text)\n",
    "    # removing punctuation\n",
    "    text = text.translate(str.maketrans('', '', string.punctuation))\n",
    "    # remove numbers\n",
    "    text = re.sub(r\"\\d+\", ' ', text)\n",
    "    text = re.sub('<.*?>+', '', text)\n",
    "    # remove extra spaces\n",
    "    text = re.sub(r\"\\s+\", ' ', text).strip()\n",
    "    # remove emojis\n",
    "    # text = re.sub(r'[^\\x00-\\x7F]+', ' ', text)\n",
    "    replace_list = {\n",
    "        \"isn't\" : \"is not\",\n",
    "        \"won't\" : \"would not\",\n",
    "        \"im\" : \"i am\",\n",
    "        \"can't\" : \"can not\",\n",
    "        \"don't\" : \"do not\",\n",
    "        \"should't\" : \"should not\",\n",
    "        \"needn't\": \"need not\",\n",
    "        \"hasn't\": \"has not\",\n",
    "        \"haven't\": \"have not\",\n",
    "        \"weren't\": \"were not\",\n",
    "        \"mightn't\": \"might not\",\n",
    "        \"didn't\": \"did not\",\n",
    "        \"n't\": \" not\",\n",
    "        \"'re\": \" are\",\n",
    "        \"'s\": \" is\",\n",
    "        \"'d\": \" would\",\n",
    "        \"'ll\": \" will\",\n",
    "        \"'t\": \" not\",\n",
    "        \"'ve\": \" have\",\n",
    "        \"'m\": \" am\",\n",
    "    }\n",
    "    # apply  replacements\n",
    "    for pattern, replace in replace_list.items():\n",
    "        text = re.sub(pattern, replace, text)\n",
    "\n",
    "    words = text.split()\n",
    "    processed_words = [lemmatizer.lemmatize(word) for word in words if word not in stop_words]\n",
    "    return ' '.join(processed_words)"
   ]
  },
  {
   "cell_type": "code",
   "execution_count": 21,
   "id": "72ef515c",
   "metadata": {
    "execution": {
     "iopub.execute_input": "2025-08-19T22:46:30.087100Z",
     "iopub.status.busy": "2025-08-19T22:46:30.086925Z",
     "iopub.status.idle": "2025-08-19T22:46:47.369278Z",
     "shell.execute_reply": "2025-08-19T22:46:47.368469Z"
    },
    "papermill": {
     "duration": 17.291,
     "end_time": "2025-08-19T22:46:47.370693",
     "exception": false,
     "start_time": "2025-08-19T22:46:30.079693",
     "status": "completed"
    },
    "tags": []
   },
   "outputs": [],
   "source": [
    "balanced_train_df['Text'] = balanced_train_df['Text'].apply(processed_text)\n",
    "valid_df['Text'] = valid_df['Text'].apply(processed_text)"
   ]
  },
  {
   "cell_type": "code",
   "execution_count": 22,
   "id": "005be55f",
   "metadata": {
    "execution": {
     "iopub.execute_input": "2025-08-19T22:46:47.385648Z",
     "iopub.status.busy": "2025-08-19T22:46:47.385421Z",
     "iopub.status.idle": "2025-08-19T22:46:47.393264Z",
     "shell.execute_reply": "2025-08-19T22:46:47.392563Z"
    },
    "papermill": {
     "duration": 0.016312,
     "end_time": "2025-08-19T22:46:47.394282",
     "exception": false,
     "start_time": "2025-08-19T22:46:47.377970",
     "status": "completed"
    },
    "tags": []
   },
   "outputs": [
    {
     "data": {
      "text/plain": [
       "40206    ban battlefield player rid na vesiax occurred ...\n",
       "27914                                know get people ai pc\n",
       "29425    cli amb rating playapex tchtv boiyom discord d...\n",
       "67962    yall please check amazing person getting amazi...\n",
       "71486                                 terminated statement\n",
       "Name: Text, dtype: object"
      ]
     },
     "execution_count": 22,
     "metadata": {},
     "output_type": "execute_result"
    }
   ],
   "source": [
    "balanced_train_df['Text'].sample(5)"
   ]
  },
  {
   "cell_type": "code",
   "execution_count": 23,
   "id": "f13cab46",
   "metadata": {
    "execution": {
     "iopub.execute_input": "2025-08-19T22:46:47.408825Z",
     "iopub.status.busy": "2025-08-19T22:46:47.408206Z",
     "iopub.status.idle": "2025-08-19T22:46:47.411423Z",
     "shell.execute_reply": "2025-08-19T22:46:47.410649Z"
    },
    "papermill": {
     "duration": 0.011506,
     "end_time": "2025-08-19T22:46:47.412516",
     "exception": false,
     "start_time": "2025-08-19T22:46:47.401010",
     "status": "completed"
    },
    "tags": []
   },
   "outputs": [],
   "source": [
    "# balanced_train_df.isna().sum()"
   ]
  },
  {
   "cell_type": "code",
   "execution_count": 24,
   "id": "8bf58e4e",
   "metadata": {
    "execution": {
     "iopub.execute_input": "2025-08-19T22:46:47.426852Z",
     "iopub.status.busy": "2025-08-19T22:46:47.426624Z",
     "iopub.status.idle": "2025-08-19T22:46:47.429779Z",
     "shell.execute_reply": "2025-08-19T22:46:47.429114Z"
    },
    "papermill": {
     "duration": 0.011492,
     "end_time": "2025-08-19T22:46:47.430754",
     "exception": false,
     "start_time": "2025-08-19T22:46:47.419262",
     "status": "completed"
    },
    "tags": []
   },
   "outputs": [],
   "source": [
    "# stemmer = PorterStemmer()\n",
    "# stop_words = set(stopwords.words('english'))\n",
    "\n",
    "# def preprocess_text(text):\n",
    "#     words = text.split()\n",
    "#     processed_words = [stemmer.stem(word) for word in words if word not in stop_words]\n",
    "#     return ' '.join(processed_words)\n",
    "\n",
    "# train_df['Text'] = train_df['Text'].apply(preprocess_text)\n",
    "# valid_df['Text'] = valid_df['Text'].apply(preprocess_text)"
   ]
  },
  {
   "cell_type": "code",
   "execution_count": 25,
   "id": "c418280c",
   "metadata": {
    "execution": {
     "iopub.execute_input": "2025-08-19T22:46:47.445056Z",
     "iopub.status.busy": "2025-08-19T22:46:47.444866Z",
     "iopub.status.idle": "2025-08-19T22:46:47.447772Z",
     "shell.execute_reply": "2025-08-19T22:46:47.447113Z"
    },
    "papermill": {
     "duration": 0.0112,
     "end_time": "2025-08-19T22:46:47.448790",
     "exception": false,
     "start_time": "2025-08-19T22:46:47.437590",
     "status": "completed"
    },
    "tags": []
   },
   "outputs": [],
   "source": [
    "# train_df.sample(5)"
   ]
  },
  {
   "cell_type": "code",
   "execution_count": 26,
   "id": "72360ae3",
   "metadata": {
    "execution": {
     "iopub.execute_input": "2025-08-19T22:46:47.463071Z",
     "iopub.status.busy": "2025-08-19T22:46:47.462853Z",
     "iopub.status.idle": "2025-08-19T22:46:47.465653Z",
     "shell.execute_reply": "2025-08-19T22:46:47.465156Z"
    },
    "papermill": {
     "duration": 0.010995,
     "end_time": "2025-08-19T22:46:47.466674",
     "exception": false,
     "start_time": "2025-08-19T22:46:47.455679",
     "status": "completed"
    },
    "tags": []
   },
   "outputs": [],
   "source": [
    "# label_encoder = LabelEncoder()\n",
    "# train_df['Sentiment'] = label_encoder.fit_transform(train_df['Sentiment'])\n",
    "# valid_df['Sentiment'] = label_encoder.fit_transform(valid_df['Sentiment'])"
   ]
  },
  {
   "cell_type": "code",
   "execution_count": 27,
   "id": "bef1cb83",
   "metadata": {
    "execution": {
     "iopub.execute_input": "2025-08-19T22:46:47.480903Z",
     "iopub.status.busy": "2025-08-19T22:46:47.480634Z",
     "iopub.status.idle": "2025-08-19T22:46:47.483344Z",
     "shell.execute_reply": "2025-08-19T22:46:47.482833Z"
    },
    "papermill": {
     "duration": 0.011001,
     "end_time": "2025-08-19T22:46:47.484453",
     "exception": false,
     "start_time": "2025-08-19T22:46:47.473452",
     "status": "completed"
    },
    "tags": []
   },
   "outputs": [],
   "source": [
    "# train_df['Sentiment'].unique()"
   ]
  },
  {
   "cell_type": "code",
   "execution_count": 28,
   "id": "18083b96",
   "metadata": {
    "execution": {
     "iopub.execute_input": "2025-08-19T22:46:47.498827Z",
     "iopub.status.busy": "2025-08-19T22:46:47.498640Z",
     "iopub.status.idle": "2025-08-19T22:46:49.525698Z",
     "shell.execute_reply": "2025-08-19T22:46:49.525087Z"
    },
    "papermill": {
     "duration": 2.035677,
     "end_time": "2025-08-19T22:46:49.527004",
     "exception": false,
     "start_time": "2025-08-19T22:46:47.491327",
     "status": "completed"
    },
    "tags": []
   },
   "outputs": [],
   "source": [
    "tokenizer = Tokenizer(num_words = 10000, oov_token = '<oov>')\n",
    "tokenizer.fit_on_texts(balanced_train_df['Text'])\n",
    "\n",
    "train_sequence = tokenizer.texts_to_sequences(balanced_train_df['Text'])\n",
    "valid_sequence = tokenizer.texts_to_sequences(valid_df['Text'])\n",
    "\n",
    "max_sequence_length = 100\n",
    "\n",
    "x = pad_sequences(train_sequence, maxlen = max_sequence_length)  # Pad training sequences\n",
    "x_val = pad_sequences(valid_sequence, maxlen = max_sequence_length)  # Pad validation sequences"
   ]
  },
  {
   "cell_type": "code",
   "execution_count": 29,
   "id": "3ad057a1",
   "metadata": {
    "execution": {
     "iopub.execute_input": "2025-08-19T22:46:49.542535Z",
     "iopub.status.busy": "2025-08-19T22:46:49.541941Z",
     "iopub.status.idle": "2025-08-19T22:46:49.573015Z",
     "shell.execute_reply": "2025-08-19T22:46:49.572272Z"
    },
    "papermill": {
     "duration": 0.039608,
     "end_time": "2025-08-19T22:46:49.574102",
     "exception": false,
     "start_time": "2025-08-19T22:46:49.534494",
     "status": "completed"
    },
    "tags": []
   },
   "outputs": [
    {
     "name": "stdout",
     "output_type": "stream",
     "text": [
      "Tokenizer has been saved.\n"
     ]
    }
   ],
   "source": [
    "import pickle\n",
    "\n",
    "with open('tokenizer_2.pkl', 'wb') as file:\n",
    "    pickle.dump(tokenizer, file)\n",
    "\n",
    "print(\"Tokenizer has been saved.\")"
   ]
  },
  {
   "cell_type": "code",
   "execution_count": 30,
   "id": "2a4a7865",
   "metadata": {
    "execution": {
     "iopub.execute_input": "2025-08-19T22:46:49.588704Z",
     "iopub.status.busy": "2025-08-19T22:46:49.588497Z",
     "iopub.status.idle": "2025-08-19T22:46:49.614291Z",
     "shell.execute_reply": "2025-08-19T22:46:49.613434Z"
    },
    "papermill": {
     "duration": 0.034489,
     "end_time": "2025-08-19T22:46:49.615566",
     "exception": false,
     "start_time": "2025-08-19T22:46:49.581077",
     "status": "completed"
    },
    "tags": []
   },
   "outputs": [],
   "source": [
    "x_train, x_test, y_train, y_test = train_test_split(x, balanced_train_df['Sentiment'], test_size = 0.2, random_state = 45)"
   ]
  },
  {
   "cell_type": "code",
   "execution_count": 31,
   "id": "d8fd3d23",
   "metadata": {
    "execution": {
     "iopub.execute_input": "2025-08-19T22:46:49.631054Z",
     "iopub.status.busy": "2025-08-19T22:46:49.630674Z",
     "iopub.status.idle": "2025-08-19T22:46:49.646142Z",
     "shell.execute_reply": "2025-08-19T22:46:49.645441Z"
    },
    "papermill": {
     "duration": 0.024439,
     "end_time": "2025-08-19T22:46:49.647301",
     "exception": false,
     "start_time": "2025-08-19T22:46:49.622862",
     "status": "completed"
    },
    "tags": []
   },
   "outputs": [],
   "source": [
    "x_train = np.array(x_train)\n",
    "x_test = np.array(x_test)\n",
    "x_val = np.array(x_val)\n",
    "\n",
    "train_labels = np.array(y_train)\n",
    "test_labels = np.array(y_test)\n",
    "val_labels = np.array(valid_df['Sentiment'].values)"
   ]
  },
  {
   "cell_type": "markdown",
   "id": "2914fab0",
   "metadata": {
    "papermill": {
     "duration": 0.006772,
     "end_time": "2025-08-19T22:46:49.660909",
     "exception": false,
     "start_time": "2025-08-19T22:46:49.654137",
     "status": "completed"
    },
    "tags": []
   },
   "source": [
    "## **Building Model**"
   ]
  },
  {
   "cell_type": "code",
   "execution_count": 32,
   "id": "a13af2fd",
   "metadata": {
    "execution": {
     "iopub.execute_input": "2025-08-19T22:46:49.675066Z",
     "iopub.status.busy": "2025-08-19T22:46:49.674884Z",
     "iopub.status.idle": "2025-08-19T22:46:51.266827Z",
     "shell.execute_reply": "2025-08-19T22:46:51.265871Z"
    },
    "papermill": {
     "duration": 1.600409,
     "end_time": "2025-08-19T22:46:51.267993",
     "exception": false,
     "start_time": "2025-08-19T22:46:49.667584",
     "status": "completed"
    },
    "tags": []
   },
   "outputs": [
    {
     "name": "stderr",
     "output_type": "stream",
     "text": [
      "I0000 00:00:1755643611.197855      19 gpu_device.cc:2022] Created device /job:localhost/replica:0/task:0/device:GPU:0 with 13942 MB memory:  -> device: 0, name: Tesla T4, pci bus id: 0000:00:04.0, compute capability: 7.5\n",
      "I0000 00:00:1755643611.198530      19 gpu_device.cc:2022] Created device /job:localhost/replica:0/task:0/device:GPU:1 with 13942 MB memory:  -> device: 1, name: Tesla T4, pci bus id: 0000:00:05.0, compute capability: 7.5\n"
     ]
    }
   ],
   "source": [
    "model = Sequential([\n",
    "    Embedding(input_dim = 10000, output_dim = 100, input_length = max_sequence_length),\n",
    "    LSTM(64, return_sequences = True),\n",
    "    SpatialDropout1D(0.2),\n",
    "    LSTM(32),\n",
    "    Dense(4, activation = 'softmax')\n",
    "])\n",
    "\n",
    "model.compile(\n",
    "    optimizer = Adam(learning_rate = 0.0001),\n",
    "    loss = 'sparse_categorical_crossentropy',\n",
    "    metrics = ['accuracy']\n",
    ")\n",
    "\n",
    "check_point = ModelCheckpoint('sentiment_analysis1.h5', verbose = 0, save_best_only = True)"
   ]
  },
  {
   "cell_type": "code",
   "execution_count": 33,
   "id": "481e50de",
   "metadata": {
    "execution": {
     "iopub.execute_input": "2025-08-19T22:46:51.283993Z",
     "iopub.status.busy": "2025-08-19T22:46:51.283506Z",
     "iopub.status.idle": "2025-08-19T22:48:46.555703Z",
     "shell.execute_reply": "2025-08-19T22:48:46.554934Z"
    },
    "papermill": {
     "duration": 115.281351,
     "end_time": "2025-08-19T22:48:46.557002",
     "exception": false,
     "start_time": "2025-08-19T22:46:51.275651",
     "status": "completed"
    },
    "tags": []
   },
   "outputs": [
    {
     "name": "stdout",
     "output_type": "stream",
     "text": [
      "Epoch 1/20\n"
     ]
    },
    {
     "name": "stderr",
     "output_type": "stream",
     "text": [
      "I0000 00:00:1755643616.988975      62 cuda_dnn.cc:529] Loaded cuDNN version 90300\n"
     ]
    },
    {
     "name": "stdout",
     "output_type": "stream",
     "text": [
      "\u001b[1m522/522\u001b[0m \u001b[32m━━━━━━━━━━━━━━━━━━━━\u001b[0m\u001b[37m\u001b[0m \u001b[1m13s\u001b[0m 11ms/step - accuracy: 0.3260 - loss: 1.3636 - val_accuracy: 0.5255 - val_loss: 1.1642\n",
      "Epoch 2/20\n",
      "\u001b[1m522/522\u001b[0m \u001b[32m━━━━━━━━━━━━━━━━━━━━\u001b[0m\u001b[37m\u001b[0m \u001b[1m5s\u001b[0m 10ms/step - accuracy: 0.5430 - loss: 1.0881 - val_accuracy: 0.6747 - val_loss: 0.8264\n",
      "Epoch 3/20\n",
      "\u001b[1m522/522\u001b[0m \u001b[32m━━━━━━━━━━━━━━━━━━━━\u001b[0m\u001b[37m\u001b[0m \u001b[1m5s\u001b[0m 10ms/step - accuracy: 0.6618 - loss: 0.8418 - val_accuracy: 0.7447 - val_loss: 0.6801\n",
      "Epoch 4/20\n",
      "\u001b[1m522/522\u001b[0m \u001b[32m━━━━━━━━━━━━━━━━━━━━\u001b[0m\u001b[37m\u001b[0m \u001b[1m5s\u001b[0m 10ms/step - accuracy: 0.7259 - loss: 0.7054 - val_accuracy: 0.7968 - val_loss: 0.5810\n",
      "Epoch 5/20\n",
      "\u001b[1m522/522\u001b[0m \u001b[32m━━━━━━━━━━━━━━━━━━━━\u001b[0m\u001b[37m\u001b[0m \u001b[1m5s\u001b[0m 10ms/step - accuracy: 0.7658 - loss: 0.6150 - val_accuracy: 0.8318 - val_loss: 0.4986\n",
      "Epoch 6/20\n",
      "\u001b[1m522/522\u001b[0m \u001b[32m━━━━━━━━━━━━━━━━━━━━\u001b[0m\u001b[37m\u001b[0m \u001b[1m5s\u001b[0m 10ms/step - accuracy: 0.7929 - loss: 0.5493 - val_accuracy: 0.8559 - val_loss: 0.4406\n",
      "Epoch 7/20\n",
      "\u001b[1m522/522\u001b[0m \u001b[32m━━━━━━━━━━━━━━━━━━━━\u001b[0m\u001b[37m\u001b[0m \u001b[1m5s\u001b[0m 10ms/step - accuracy: 0.8119 - loss: 0.5044 - val_accuracy: 0.8689 - val_loss: 0.4253\n",
      "Epoch 8/20\n",
      "\u001b[1m522/522\u001b[0m \u001b[32m━━━━━━━━━━━━━━━━━━━━\u001b[0m\u001b[37m\u001b[0m \u001b[1m5s\u001b[0m 10ms/step - accuracy: 0.8285 - loss: 0.4644 - val_accuracy: 0.8799 - val_loss: 0.3924\n",
      "Epoch 9/20\n",
      "\u001b[1m522/522\u001b[0m \u001b[32m━━━━━━━━━━━━━━━━━━━━\u001b[0m\u001b[37m\u001b[0m \u001b[1m5s\u001b[0m 10ms/step - accuracy: 0.8411 - loss: 0.4329 - val_accuracy: 0.8809 - val_loss: 0.3924\n",
      "Epoch 10/20\n",
      "\u001b[1m522/522\u001b[0m \u001b[32m━━━━━━━━━━━━━━━━━━━━\u001b[0m\u001b[37m\u001b[0m \u001b[1m5s\u001b[0m 10ms/step - accuracy: 0.8507 - loss: 0.4044 - val_accuracy: 0.8789 - val_loss: 0.3742\n",
      "Epoch 11/20\n",
      "\u001b[1m522/522\u001b[0m \u001b[32m━━━━━━━━━━━━━━━━━━━━\u001b[0m\u001b[37m\u001b[0m \u001b[1m5s\u001b[0m 10ms/step - accuracy: 0.8581 - loss: 0.3832 - val_accuracy: 0.8849 - val_loss: 0.3685\n",
      "Epoch 12/20\n",
      "\u001b[1m522/522\u001b[0m \u001b[32m━━━━━━━━━━━━━━━━━━━━\u001b[0m\u001b[37m\u001b[0m \u001b[1m5s\u001b[0m 10ms/step - accuracy: 0.8642 - loss: 0.3662 - val_accuracy: 0.8869 - val_loss: 0.3661\n",
      "Epoch 13/20\n",
      "\u001b[1m522/522\u001b[0m \u001b[32m━━━━━━━━━━━━━━━━━━━━\u001b[0m\u001b[37m\u001b[0m \u001b[1m5s\u001b[0m 10ms/step - accuracy: 0.8702 - loss: 0.3477 - val_accuracy: 0.9049 - val_loss: 0.3531\n",
      "Epoch 14/20\n",
      "\u001b[1m522/522\u001b[0m \u001b[32m━━━━━━━━━━━━━━━━━━━━\u001b[0m\u001b[37m\u001b[0m \u001b[1m5s\u001b[0m 10ms/step - accuracy: 0.8780 - loss: 0.3304 - val_accuracy: 0.9039 - val_loss: 0.3535\n",
      "Epoch 15/20\n",
      "\u001b[1m522/522\u001b[0m \u001b[32m━━━━━━━━━━━━━━━━━━━━\u001b[0m\u001b[37m\u001b[0m \u001b[1m5s\u001b[0m 10ms/step - accuracy: 0.8842 - loss: 0.3152 - val_accuracy: 0.9099 - val_loss: 0.3522\n",
      "Epoch 16/20\n",
      "\u001b[1m522/522\u001b[0m \u001b[32m━━━━━━━━━━━━━━━━━━━━\u001b[0m\u001b[37m\u001b[0m \u001b[1m5s\u001b[0m 10ms/step - accuracy: 0.8869 - loss: 0.3094 - val_accuracy: 0.9079 - val_loss: 0.3608\n",
      "Epoch 17/20\n",
      "\u001b[1m522/522\u001b[0m \u001b[32m━━━━━━━━━━━━━━━━━━━━\u001b[0m\u001b[37m\u001b[0m \u001b[1m5s\u001b[0m 10ms/step - accuracy: 0.8915 - loss: 0.2926 - val_accuracy: 0.8969 - val_loss: 0.3865\n",
      "Epoch 18/20\n",
      "\u001b[1m522/522\u001b[0m \u001b[32m━━━━━━━━━━━━━━━━━━━━\u001b[0m\u001b[37m\u001b[0m \u001b[1m5s\u001b[0m 10ms/step - accuracy: 0.8956 - loss: 0.2872 - val_accuracy: 0.9139 - val_loss: 0.3544\n",
      "Epoch 19/20\n",
      "\u001b[1m522/522\u001b[0m \u001b[32m━━━━━━━━━━━━━━━━━━━━\u001b[0m\u001b[37m\u001b[0m \u001b[1m5s\u001b[0m 10ms/step - accuracy: 0.8967 - loss: 0.2785 - val_accuracy: 0.9209 - val_loss: 0.3597\n",
      "Epoch 20/20\n",
      "\u001b[1m522/522\u001b[0m \u001b[32m━━━━━━━━━━━━━━━━━━━━\u001b[0m\u001b[37m\u001b[0m \u001b[1m5s\u001b[0m 10ms/step - accuracy: 0.9007 - loss: 0.2676 - val_accuracy: 0.9149 - val_loss: 0.3662\n"
     ]
    }
   ],
   "source": [
    "history = model.fit(\n",
    "    x_train, train_labels,\n",
    "    validation_data = (x_val, val_labels),\n",
    "    epochs = 20,\n",
    "    batch_size = 128,\n",
    "    verbose = 1,\n",
    "    callbacks = [check_point]\n",
    ")"
   ]
  },
  {
   "cell_type": "code",
   "execution_count": 34,
   "id": "349775f9",
   "metadata": {
    "execution": {
     "iopub.execute_input": "2025-08-19T22:48:46.730060Z",
     "iopub.status.busy": "2025-08-19T22:48:46.729847Z",
     "iopub.status.idle": "2025-08-19T22:48:49.199249Z",
     "shell.execute_reply": "2025-08-19T22:48:49.198516Z"
    },
    "papermill": {
     "duration": 2.55563,
     "end_time": "2025-08-19T22:48:49.200360",
     "exception": false,
     "start_time": "2025-08-19T22:48:46.644730",
     "status": "completed"
    },
    "tags": []
   },
   "outputs": [
    {
     "name": "stdout",
     "output_type": "stream",
     "text": [
      "\u001b[1m522/522\u001b[0m \u001b[32m━━━━━━━━━━━━━━━━━━━━\u001b[0m\u001b[37m\u001b[0m \u001b[1m2s\u001b[0m 5ms/step - accuracy: 0.8221 - loss: 0.5635\n",
      "Test Accuracy: 82.11%\n"
     ]
    }
   ],
   "source": [
    "test_loss, test_accuracy = model.evaluate(x_test,test_labels)\n",
    "print(f\"Test Accuracy: {test_accuracy * 100:.2f}%\")"
   ]
  },
  {
   "cell_type": "code",
   "execution_count": 35,
   "id": "bc7a9fdf",
   "metadata": {
    "execution": {
     "iopub.execute_input": "2025-08-19T22:48:49.376616Z",
     "iopub.status.busy": "2025-08-19T22:48:49.376379Z",
     "iopub.status.idle": "2025-08-19T22:48:49.909551Z",
     "shell.execute_reply": "2025-08-19T22:48:49.908771Z"
    },
    "papermill": {
     "duration": 0.623615,
     "end_time": "2025-08-19T22:48:49.911390",
     "exception": false,
     "start_time": "2025-08-19T22:48:49.287775",
     "status": "completed"
    },
    "tags": []
   },
   "outputs": [
    {
     "data": {
      "image/png": "[encoded data removed]",
      "text/plain": [
       "<Figure size 2000x800 with 2 Axes>"
      ]
     },
     "metadata": {},
     "output_type": "display_data"
    }
   ],
   "source": [
    "tr_acc = history.history['accuracy']\n",
    "tr_loss = history.history['loss']\n",
    "val_acc = history.history['val_accuracy']\n",
    "val_loss = history.history['val_loss']\n",
    "index_loss = np.argmin(val_loss)\n",
    "val_lowest = val_loss[index_loss]\n",
    "index_acc = np.argmax(val_acc)\n",
    "acc_highest = val_acc[index_acc]\n",
    "Epochs = [i+1 for i in range(len(tr_acc))]\n",
    "loss_label = f'best epoch= {str(index_loss + 1)}'\n",
    "acc_label = f'best epoch= {str(index_acc + 1)}'\n",
    "\n",
    "# Plot training history\n",
    "plt.figure(figsize= (20, 8))\n",
    "plt.style.use('seaborn-v0_8-darkgrid')\n",
    "\n",
    "plt.subplot(1, 2, 1)\n",
    "plt.plot(Epochs, tr_loss, 'r', label= 'Training loss')\n",
    "plt.plot(Epochs, val_loss, 'g', label= 'Validation loss')\n",
    "plt.scatter(index_loss + 1, val_lowest, s= 150, c= 'blue', label= loss_label)\n",
    "plt.title('Training and Validation Loss')\n",
    "plt.xlabel('Epochs')\n",
    "plt.ylabel('Loss')\n",
    "plt.legend()\n",
    "\n",
    "plt.subplot(1, 2, 2)\n",
    "plt.plot(Epochs, tr_acc, 'r', label= 'Training Accuracy')\n",
    "plt.plot(Epochs, val_acc, 'g', label= 'Validation Accuracy')\n",
    "plt.scatter(index_acc + 1 , acc_highest, s= 150, c= 'blue', label= acc_label)\n",
    "plt.title('Training and Validation Accuracy')\n",
    "plt.xlabel('Epochs')\n",
    "plt.ylabel('Accuracy')\n",
    "plt.legend()\n",
    "\n",
    "plt.tight_layout\n",
    "plt.show()"
   ]
  },
  {
   "cell_type": "code",
   "execution_count": 36,
   "id": "1f0ae431",
   "metadata": {
    "execution": {
     "iopub.execute_input": "2025-08-19T22:48:50.088067Z",
     "iopub.status.busy": "2025-08-19T22:48:50.087597Z",
     "iopub.status.idle": "2025-08-19T22:48:50.132667Z",
     "shell.execute_reply": "2025-08-19T22:48:50.132072Z"
    },
    "papermill": {
     "duration": 0.13332,
     "end_time": "2025-08-19T22:48:50.133965",
     "exception": false,
     "start_time": "2025-08-19T22:48:50.000645",
     "status": "completed"
    },
    "tags": []
   },
   "outputs": [],
   "source": [
    "model.save('tesentmodel_v2.h5')"
   ]
  },
  {
   "cell_type": "code",
   "execution_count": 37,
   "id": "1de7a277",
   "metadata": {
    "execution": {
     "iopub.execute_input": "2025-08-19T22:48:50.309540Z",
     "iopub.status.busy": "2025-08-19T22:48:50.309290Z",
     "iopub.status.idle": "2025-08-19T22:48:52.937821Z",
     "shell.execute_reply": "2025-08-19T22:48:52.937235Z"
    },
    "papermill": {
     "duration": 2.716279,
     "end_time": "2025-08-19T22:48:52.939218",
     "exception": false,
     "start_time": "2025-08-19T22:48:50.222939",
     "status": "completed"
    },
    "tags": []
   },
   "outputs": [
    {
     "name": "stdout",
     "output_type": "stream",
     "text": [
      "\u001b[1m522/522\u001b[0m \u001b[32m━━━━━━━━━━━━━━━━━━━━\u001b[0m\u001b[37m\u001b[0m \u001b[1m2s\u001b[0m 4ms/step\n"
     ]
    }
   ],
   "source": [
    "y_pred = model.predict(x_test)\n",
    "y_pred = np.argmax(y_pred, axis = 1)"
   ]
  },
  {
   "cell_type": "code",
   "execution_count": 38,
   "id": "ce9caaa4",
   "metadata": {
    "execution": {
     "iopub.execute_input": "2025-08-19T22:48:53.121223Z",
     "iopub.status.busy": "2025-08-19T22:48:53.120942Z",
     "iopub.status.idle": "2025-08-19T22:48:53.329746Z",
     "shell.execute_reply": "2025-08-19T22:48:53.329147Z"
    },
    "papermill": {
     "duration": 0.29898,
     "end_time": "2025-08-19T22:48:53.330885",
     "exception": false,
     "start_time": "2025-08-19T22:48:53.031905",
     "status": "completed"
    },
    "tags": []
   },
   "outputs": [
    {
     "data": {
      "image/png": "[encoded data removed]",
      "text/plain": [
       "<Figure size 1000x600 with 2 Axes>"
      ]
     },
     "metadata": {},
     "output_type": "display_data"
    }
   ],
   "source": [
    "con_matrix = confusion_matrix(y_test, y_pred)\n",
    "plt.figure(figsize = (10,6))\n",
    "sns.heatmap(con_matrix, annot=True, fmt='d', cmap=\"YlGnBu\", xticklabels = ['Positive', 'Negative', 'Neutral','irrelvant'], yticklabels=['Positive', 'Negative', 'Neutral','irrelvant'], linewidths=0.5)\n",
    "plt.title(\"Confusion Matrix\", fontsize=14)\n",
    "plt.xlabel(\"Predicted Label\", fontsize=12)\n",
    "plt.ylabel(\"True Label\", fontsize=12)\n",
    "plt.xticks(rotation=45)\n",
    "plt.yticks(rotation=0)\n",
    "plt.show()"
   ]
  },
  {
   "cell_type": "code",
   "execution_count": 39,
   "id": "ea2f0a51",
   "metadata": {
    "execution": {
     "iopub.execute_input": "2025-08-19T22:48:53.513068Z",
     "iopub.status.busy": "2025-08-19T22:48:53.512371Z",
     "iopub.status.idle": "2025-08-19T22:48:53.527612Z",
     "shell.execute_reply": "2025-08-19T22:48:53.526855Z"
    },
    "papermill": {
     "duration": 0.106914,
     "end_time": "2025-08-19T22:48:53.528724",
     "exception": false,
     "start_time": "2025-08-19T22:48:53.421810",
     "status": "completed"
    },
    "tags": []
   },
   "outputs": [
    {
     "name": "stdout",
     "output_type": "stream",
     "text": [
      "Classfication Report\n",
      "              precision    recall  f1-score   support\n",
      "\n",
      "           0       0.87      0.87      0.87      4514\n",
      "           1       0.85      0.82      0.83      4412\n",
      "           2       0.81      0.75      0.78      3636\n",
      "           3       0.75      0.83      0.79      4134\n",
      "\n",
      "    accuracy                           0.82     16696\n",
      "   macro avg       0.82      0.82      0.82     16696\n",
      "weighted avg       0.82      0.82      0.82     16696\n",
      "\n"
     ]
    }
   ],
   "source": [
    "report = classification_report(y_test, y_pred)\n",
    "print('Classfication Report')\n",
    "print(report)"
   ]
  },
  {
   "cell_type": "code",
   "execution_count": 40,
   "id": "16b4df88",
   "metadata": {
    "execution": {
     "iopub.execute_input": "2025-08-19T22:48:53.709106Z",
     "iopub.status.busy": "2025-08-19T22:48:53.708646Z",
     "iopub.status.idle": "2025-08-19T22:48:53.712580Z",
     "shell.execute_reply": "2025-08-19T22:48:53.712008Z"
    },
    "papermill": {
     "duration": 0.094251,
     "end_time": "2025-08-19T22:48:53.713636",
     "exception": false,
     "start_time": "2025-08-19T22:48:53.619385",
     "status": "completed"
    },
    "tags": []
   },
   "outputs": [],
   "source": [
    "def preprocess_txt(texts, tokenizer):\n",
    "    \"\"\"\n",
    "    Preprocess new incoming text data.\n",
    "\n",
    "    Args:\n",
    "        texts (list of str): List of raw text inputs.\n",
    "        tokenizer (Tokenizer): Pre-trained tokenizer.\n",
    "        max_len (int): Maximum sequence length.\n",
    "\n",
    "    Returns:\n",
    "        np.array: Padded sequences ready for prediction.\n",
    "    \"\"\"\n",
    "    # Convert text to sequences\n",
    "\n",
    "    text_seq = tokenizer.texts_to_sequences([texts])\n",
    "    \n",
    "    # Apply padding\n",
    "    text_padded = pad_sequences(text_seq, maxlen = 100, padding=\"post\")\n",
    "    \n",
    "    return text_padded"
   ]
  },
  {
   "cell_type": "code",
   "execution_count": 41,
   "id": "202a5bfa",
   "metadata": {
    "execution": {
     "iopub.execute_input": "2025-08-19T22:48:53.937644Z",
     "iopub.status.busy": "2025-08-19T22:48:53.937061Z",
     "iopub.status.idle": "2025-08-19T22:48:53.941420Z",
     "shell.execute_reply": "2025-08-19T22:48:53.940869Z"
    },
    "papermill": {
     "duration": 0.139511,
     "end_time": "2025-08-19T22:48:53.942580",
     "exception": false,
     "start_time": "2025-08-19T22:48:53.803069",
     "status": "completed"
    },
    "tags": []
   },
   "outputs": [],
   "source": [
    "def predict_data(text, model, tokenizer, max_len=100):\n",
    "    text_cleaned = processed_text(text)\n",
    "    \n",
    "    # Convert to sequence\n",
    "    seq = tokenizer.texts_to_sequences([text_cleaned])\n",
    "    \n",
    "    # Pad\n",
    "    seq_padded = pad_sequences(seq, maxlen=max_len, padding=\"post\")\n",
    "    \n",
    "    # Predict\n",
    "    y_pred = model.predict(seq_padded)\n",
    "    pred_idx = np.argmax(y_pred, axis=1)[0]\n",
    "    \n",
    "    classes = ['Positive', 'Negative', 'Neutral', 'Irrelevant']\n",
    "    return classes[pred_idx]"
   ]
  },
  {
   "cell_type": "code",
   "execution_count": 42,
   "id": "434c0b9d",
   "metadata": {
    "execution": {
     "iopub.execute_input": "2025-08-19T22:48:54.119582Z",
     "iopub.status.busy": "2025-08-19T22:48:54.119089Z",
     "iopub.status.idle": "2025-08-19T22:48:54.330394Z",
     "shell.execute_reply": "2025-08-19T22:48:54.329828Z"
    },
    "papermill": {
     "duration": 0.301951,
     "end_time": "2025-08-19T22:48:54.331852",
     "exception": false,
     "start_time": "2025-08-19T22:48:54.029901",
     "status": "completed"
    },
    "tags": []
   },
   "outputs": [],
   "source": [
    "with open('/kaggle/working/tokenizer_2.pkl', \"rb\") as f:\n",
    "    tokenizer = pickle.load(f)\n",
    "\n",
    "\n",
    "test_model = tf.keras.models.load_model('/kaggle/working/tesentmodel_v2.h5')"
   ]
  },
  {
   "cell_type": "code",
   "execution_count": 43,
   "id": "9494246f",
   "metadata": {
    "execution": {
     "iopub.execute_input": "2025-08-19T22:48:54.521869Z",
     "iopub.status.busy": "2025-08-19T22:48:54.521398Z",
     "iopub.status.idle": "2025-08-19T22:48:54.860627Z",
     "shell.execute_reply": "2025-08-19T22:48:54.860018Z"
    },
    "papermill": {
     "duration": 0.435805,
     "end_time": "2025-08-19T22:48:54.861707",
     "exception": false,
     "start_time": "2025-08-19T22:48:54.425902",
     "status": "completed"
    },
    "tags": []
   },
   "outputs": [
    {
     "name": "stdout",
     "output_type": "stream",
     "text": [
      "Processed: absolutely hate product hardly work make angry\n",
      "Sequences: [[1], [236], [2531], [3318], [420], [12], [3311], [214], [420], [1], [], [358], [1], [3311], [214], [], [26], [204], [3318], [4178], [12], [173], [3311], [], [358], [1], [204], [4178], [420], [1], [], [267], [3318], [204], [18], [], [1575], [1], [18], [214], [], [1], [213], [208], [204], [1]]\n",
      "\u001b[1m1/1\u001b[0m \u001b[32m━━━━━━━━━━━━━━━━━━━━\u001b[0m\u001b[37m\u001b[0m \u001b[1m0s\u001b[0m 292ms/step\n",
      "Predicted Class :Irrelevant\n"
     ]
    }
   ],
   "source": [
    "txt = \"I absolutely hate this product! It hardly works and makes me so angry.\"\n",
    "\n",
    "print(\"Processed:\", processed_text(txt))\n",
    "print(\"Sequences:\", tokenizer.texts_to_sequences(processed_text(txt)))\n",
    "\n",
    "pred_class = predict_data(txt, test_model, tokenizer)\n",
    "\n",
    "print(f'Predicted Class :{pred_class}')"
   ]
  },
  {
   "cell_type": "code",
   "execution_count": 44,
   "id": "dddca85b",
   "metadata": {
    "execution": {
     "iopub.execute_input": "2025-08-19T22:48:55.043626Z",
     "iopub.status.busy": "2025-08-19T22:48:55.043383Z",
     "iopub.status.idle": "2025-08-19T22:48:55.124975Z",
     "shell.execute_reply": "2025-08-19T22:48:55.124338Z"
    },
    "papermill": {
     "duration": 0.173506,
     "end_time": "2025-08-19T22:48:55.126099",
     "exception": false,
     "start_time": "2025-08-19T22:48:54.952593",
     "status": "completed"
    },
    "tags": []
   },
   "outputs": [
    {
     "name": "stdout",
     "output_type": "stream",
     "text": [
      "[1 0 0 0 0 0 0 0 0 0 0 0 0 0 0 0 0 0 0 0]\n",
      "\u001b[1m1/1\u001b[0m \u001b[32m━━━━━━━━━━━━━━━━━━━━\u001b[0m\u001b[37m\u001b[0m \u001b[1m0s\u001b[0m 33ms/step\n",
      "3\n"
     ]
    }
   ],
   "source": [
    "txt = \"I absolutely love this product! It works perfectly and makes me so happy.\"\n",
    "text_padded = preprocess_txt([txt], tokenizer)\n",
    "print(text_padded[0][:20])  # first 20 tokens after padding\n",
    "pred = test_model.predict(text_padded)\n",
    "print(np.argmax(pred))\n"
   ]
  },
  {
   "cell_type": "code",
   "execution_count": null,
   "id": "1b48c251",
   "metadata": {
    "papermill": {
     "duration": 0.086701,
     "end_time": "2025-08-19T22:48:55.302877",
     "exception": false,
     "start_time": "2025-08-19T22:48:55.216176",
     "status": "completed"
    },
    "tags": []
   },
   "outputs": [],
   "source": []
  }
 ],
 "metadata": {
  "kaggle": {
   "accelerator": "nvidiaTeslaT4",
   "dataSources": [
    {
     "datasetId": 1520310,
     "sourceId": 2510329,
     "sourceType": "datasetVersion"
    }
   ],
   "dockerImageVersionId": 31090,
   "isGpuEnabled": true,
   "isInternetEnabled": true,
   "language": "python",
   "sourceType": "notebook"
  },
  "kernelspec": {
   "display_name": "Python 3",
   "language": "python",
   "name": "python3"
  },
  "language_info": {
   "codemirror_mode": {
    "name": "ipython",
    "version": 3
   },
   "file_extension": ".py",
   "mimetype": "text/x-python",
   "name": "python",
   "nbconvert_exporter": "python",
   "pygments_lexer": "ipython3",
   "version": "3.11.13"
  },
  "papermill": {
   "default_parameters": {},
   "duration": 178.940152,
   "end_time": "2025-08-19T22:48:58.793800",
   "environment_variables": {},
   "exception": null,
   "input_path": "__notebook__.ipynb",
   "output_path": "__notebook__.ipynb",
   "parameters": {},
   "start_time": "2025-08-19T22:45:59.853648",
   "version": "2.6.0"
  }
 },
 "nbformat": 4,
 "nbformat_minor": 5
}
